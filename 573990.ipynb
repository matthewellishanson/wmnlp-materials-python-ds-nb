{
 "cells": [
  {
   "cell_type": "markdown",
   "id": "3672d5af",
   "metadata": {},
   "source": [
    "## Matt Hanson"
   ]
  },
  {
   "cell_type": "markdown",
   "id": "a100af15",
   "metadata": {},
   "source": [
    "Add a Code cell and write Python that uses loops to draw the following pattern:\n",
    "\n",
    "```\n",
    "*      *\n",
    "**    **\n",
    "***  ***\n",
    "********\n",
    "```"
   ]
  },
  {
   "cell_type": "code",
   "execution_count": 1,
   "id": "843694ab",
   "metadata": {},
   "outputs": [
    {
     "name": "stdout",
     "output_type": "stream",
     "text": [
      "*      *\n",
      "**    **\n",
      "***  ***\n",
      "********\n"
     ]
    }
   ],
   "source": [
    "for i in range(1, 5):\n",
    "    left_stars = '*' * i\n",
    "    spaces = ' ' * (8 - 2 * i)\n",
    "    right_stars = '*' * i\n",
    "    print(left_stars + spaces + right_stars)"
   ]
  },
  {
   "cell_type": "code",
   "execution_count": null,
   "id": "a84ede73",
   "metadata": {},
   "outputs": [],
   "source": []
  }
 ],
 "metadata": {
  "kernelspec": {
   "display_name": ".venv",
   "language": "python",
   "name": "python3"
  },
  "language_info": {
   "codemirror_mode": {
    "name": "ipython",
    "version": 3
   },
   "file_extension": ".py",
   "mimetype": "text/x-python",
   "name": "python",
   "nbconvert_exporter": "python",
   "pygments_lexer": "ipython3",
   "version": "3.12.2"
  }
 },
 "nbformat": 4,
 "nbformat_minor": 5
}
